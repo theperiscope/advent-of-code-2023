{
 "cells": [
  {
   "cell_type": "code",
   "execution_count": null,
   "metadata": {},
   "outputs": [],
   "source": [
    "import re\n",
    "filename = \"input.txt\"\n",
    "\n",
    "# This compiles your input file to a mermaid markdown file.\n",
    "# With this, part 2 is faster done by hand\n",
    "with open(filename, \"r\") as in_f:\n",
    "    with open(filename[:-3] + \"mmd\", \"w\") as out_f:\n",
    "        out_f.write(\"flowchart TB\\n\")\n",
    "        for li in in_f:\n",
    "            if \"%\" in li:\n",
    "                li = li.replace(\"%\", \"    \")\n",
    "            elif \"&\" in li:\n",
    "                mat = re.match(r\"&(\\S+)\", li)\n",
    "                name = mat.groups()[0]\n",
    "                li = li.replace(mat[0], \"    \" + name + \"{'\" + name + \"'}\")\n",
    "            else:\n",
    "                li = li.replace(\"broadcaster \", \"    broadcaster(broadcaster) --\")\n",
    "            li = li.replace(\", \", \" & \")\n",
    "            li = li.replace(\" -> \", \" --> \")\n",
    "            out_f.write(li)\n"
   ]
  }
 ],
 "metadata": {
  "kernelspec": {
   "display_name": "Python 3",
   "language": "python",
   "name": "python3"
  },
  "language_info": {
   "codemirror_mode": {
    "name": "ipython",
    "version": 3
   },
   "file_extension": ".py",
   "mimetype": "text/x-python",
   "name": "python",
   "nbconvert_exporter": "python",
   "pygments_lexer": "ipython3",
   "version": "3.12.1"
  }
 },
 "nbformat": 4,
 "nbformat_minor": 2
}
